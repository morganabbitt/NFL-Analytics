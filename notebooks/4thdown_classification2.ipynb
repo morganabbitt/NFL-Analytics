{
 "cells": [
  {
   "cell_type": "code",
   "execution_count": 20,
   "metadata": {},
   "outputs": [],
   "source": [
    "#imports\n",
    "import pandas as pd\n",
    "import matplotlib.pyplot as plt\n",
    "import numpy as np\n",
    "from sklearn.linear_model import LogisticRegression\n",
    "from sklearn.metrics import confusion_matrix, accuracy_score, recall_score, precision_score, plot_confusion_matrix, log_loss, make_scorer\n",
    "from sklearn.ensemble import RandomForestClassifier, GradientBoostingClassifier\n",
    "from sklearn.model_selection import cross_val_score, train_test_split, GridSearchCV, KFold, RandomizedSearchCV\n",
    "pd.set_option('display.max_columns', None)\n",
    "%matplotlib inline\n",
    "plt.style.use('ggplot')\n",
    "import warnings\n",
    "warnings.simplefilter(action='ignore', category=FutureWarning)"
   ]
  },
  {
   "cell_type": "code",
   "execution_count": 21,
   "metadata": {},
   "outputs": [
    {
     "name": "stderr",
     "output_type": "stream",
     "text": [
      "/Users/morganabbitt/anaconda3/lib/python3.7/site-packages/ipykernel_launcher.py:10: SettingWithCopyWarning: \n",
      "A value is trying to be set on a copy of a slice from a DataFrame.\n",
      "Try using .loc[row_indexer,col_indexer] = value instead\n",
      "\n",
      "See the caveats in the documentation: http://pandas.pydata.org/pandas-docs/stable/user_guide/indexing.html#returning-a-view-versus-a-copy\n",
      "  # Remove the CWD from sys.path while we load stuff.\n",
      "/Users/morganabbitt/anaconda3/lib/python3.7/site-packages/ipykernel_launcher.py:11: SettingWithCopyWarning: \n",
      "A value is trying to be set on a copy of a slice from a DataFrame.\n",
      "Try using .loc[row_indexer,col_indexer] = value instead\n",
      "\n",
      "See the caveats in the documentation: http://pandas.pydata.org/pandas-docs/stable/user_guide/indexing.html#returning-a-view-versus-a-copy\n",
      "  # This is added back by InteractiveShellApp.init_path()\n"
     ]
    }
   ],
   "source": [
    "#read in the data using low memory\n",
    "df = pd.read_csv('/Users/morganabbitt/galvanize/capstone/NFL-Analytics/data/NFL Play by Play 2009-2018 (v5).csv', low_memory=False)\n",
    "#drop when the play is the last of the quarter\n",
    "df = df[df['quarter_end'] == 0]\n",
    "#grab all 4th downs\n",
    "df_4 = df[df['down'] == 4.0]\n",
    "#convert date to datetime\n",
    "date = pd.to_datetime(df_4['game_date'].values)\n",
    "#separate date and year\n",
    "df_4['game_date'] = date\n",
    "df_4['year'] = date.year\n",
    "df_4 = df_4[['yardline_100', 'year', 'half_seconds_remaining', 'drive', 'qtr', 'play_type']]\n",
    "df_4.loc[df_4['play_type'] == 'punt', 'target'] = 1\n",
    "df_4.loc[df_4['play_type'] != 'punt', 'target'] = 0"
   ]
  },
  {
   "cell_type": "code",
   "execution_count": 22,
   "metadata": {},
   "outputs": [],
   "source": [
    "#if working with RandomForests dont need to drop na, else dropna\n",
    "#creates test set and training set using 5 years for training and the final year for test\n",
    "test = df_4[df_4['year'] == 2018].dropna()\n",
    "train = df_4[(df_4['year'] == 2017) | (df_4['year'] == 2016) | (df_4['year'] == 2015) | (df_4['year'] == 2014) | (df_4['year'] == 2013)].dropna()\n",
    "\n",
    "y_test = test['target']\n",
    "X_test = test.drop(columns=['target', 'play_type']) #.select_dtypes(exclude=['object'])\n",
    "\n",
    "y_train = train['target']\n",
    "X_train = train.drop(columns=['target', 'play_type']) #.select_dtypes(exclude=['object'])"
   ]
  },
  {
   "cell_type": "code",
   "execution_count": 23,
   "metadata": {},
   "outputs": [
    {
     "data": {
      "text/plain": [
       "array([1., 1., 1., ..., 0., 0., 1.])"
      ]
     },
     "execution_count": 23,
     "metadata": {},
     "output_type": "execute_result"
    }
   ],
   "source": [
    "#base model simple logistic regression\n",
    "lr = LogisticRegression()\n",
    "lr.fit(X_train, y_train)\n",
    "lr.predict(X_train)"
   ]
  },
  {
   "cell_type": "code",
   "execution_count": 24,
   "metadata": {},
   "outputs": [],
   "source": [
    "def cross_val(estimator, X, y):\n",
    "    '''\n",
    "    estimator = The model you want to use with the sepcified paramters\n",
    "                        ex: LogisticRegression(), RandomForestClassification() ...\n",
    "                        \n",
    "    data = clean dataframe you are working with, no nans\n",
    "    \n",
    "    clean_features = list of features you want to observe in your model\n",
    "    \n",
    "    target = target column you want to predict against\n",
    "    '''\n",
    "\n",
    "    kf = KFold(n_splits=5, shuffle=True, random_state=123)  # almost always use shuffle=True\n",
    "    acc_scores = []\n",
    "    model = estimator   \n",
    "    \n",
    "    for train_index, test_index in kf.split(X):\n",
    "        X_train, X_test = X[train_index], X[test_index]\n",
    "        y_train, y_test = y[train_index], y[test_index]\n",
    "        \n",
    "        model.fit(X_train, y_train)\n",
    "\n",
    "        y_test_pred = model.predict(X_test)\n",
    "        acc_scores.append(accuracy_score(y_test, y_test_pred))\n",
    "\n",
    "        #precision_scores.append(precision_score(y[test], y_test_pred))\n",
    "        #test_matrix = confusion_matrix(y[test], y_test_pred)\n",
    "    \n",
    "    print('Accuracy Mean Score of {}: {:.3f}'.format(type(model).__name__, np.mean(acc_scores)))\n",
    "    #print('Recall Mean Score of {} : {:.3f}'.format(type(model).__name__, np.mean(recall_scores)))\n",
    "    #print('Precision Mean Score of {} : {:.3f}'.format(type(model).__name__, np.mean(precision_scores)))\n",
    "    return model"
   ]
  },
  {
   "cell_type": "code",
   "execution_count": 25,
   "metadata": {},
   "outputs": [
    {
     "name": "stdout",
     "output_type": "stream",
     "text": [
      "Accuracy Mean Score of LogisticRegression: 0.886\n"
     ]
    },
    {
     "data": {
      "text/plain": [
       "LogisticRegression(C=1.0, class_weight=None, dual=False, fit_intercept=True,\n",
       "                   intercept_scaling=1, l1_ratio=None, max_iter=100,\n",
       "                   multi_class='auto', n_jobs=None, penalty='l2',\n",
       "                   random_state=None, solver='lbfgs', tol=0.0001, verbose=0,\n",
       "                   warm_start=False)"
      ]
     },
     "execution_count": 25,
     "metadata": {},
     "output_type": "execute_result"
    }
   ],
   "source": [
    "cross_val(LogisticRegression(), X_train.values, y_train.values)"
   ]
  },
  {
   "cell_type": "code",
   "execution_count": 26,
   "metadata": {},
   "outputs": [
    {
     "name": "stdout",
     "output_type": "stream",
     "text": [
      "Accuracy Mean Score of RandomForestClassifier: 0.897\n"
     ]
    }
   ],
   "source": [
    "#run simple randomforestclassifier using train and test, implemented cross validation \n",
    "#for accuracy score (2 classes, not imbalanced)\n",
    "rf = cross_val(RandomForestClassifier(), X_train.values, y_train.values)\n",
    "arr = rf.feature_importances_\n",
    "lst = []\n",
    "for x in arr:\n",
    "    lst.append(x)"
   ]
  },
  {
   "cell_type": "code",
   "execution_count": 27,
   "metadata": {},
   "outputs": [
    {
     "data": {
      "image/png": "[encoded data removed]",
      "text/plain": [
       "<Figure size 720x504 with 1 Axes>"
      ]
     },
     "metadata": {},
     "output_type": "display_data"
    }
   ],
   "source": [
    "plt.figure(figsize=(10,7))\n",
    "plt.title('Feature Importance of RF', size=20)\n",
    "plt.xlabel('Percent Explained')\n",
    "plt.yticks(size=12)\n",
    "plt.barh(['Year', 'Drive','Quarter','Seconds Remaining in Half', 'Field Position'], sorted(lst), height=0.6);"
   ]
  },
  {
   "cell_type": "code",
   "execution_count": 28,
   "metadata": {},
   "outputs": [],
   "source": [
    "# parameter space for randomized grid search\n",
    "n_estimators = [50, 100, 200]\n",
    "max_features = ['log2', 'sqrt', None]\n",
    "max_depth = [2, 3, 6]\n",
    "min_samples_split = [2, 4, 8]\n",
    "min_samples_leaf = [1, 2, 4]\n",
    "learning_rate  = [0.1, 0.05, 0.025]\n",
    "random_grid = {'n_estimators': n_estimators,\n",
    "               'max_features': max_features,\n",
    "               'max_depth': max_depth,\n",
    "               'min_samples_split': min_samples_split,\n",
    "               'min_samples_leaf': min_samples_leaf,\n",
    "               'learning_rate': learning_rate}\n",
    "#creating object and then runs randomizedsearch using parameters from above\n",
    "gbc = GradientBoostingClassifier()\n",
    "clf = RandomizedSearchCV(estimator = gbc, param_distributions = random_grid, n_iter = 10, scoring='f1', n_jobs = -1, cv = 5, verbose=0)"
   ]
  },
  {
   "cell_type": "code",
   "execution_count": 29,
   "metadata": {},
   "outputs": [
    {
     "data": {
      "text/plain": [
       "RandomizedSearchCV(cv=5, error_score=nan,\n",
       "                   estimator=GradientBoostingClassifier(ccp_alpha=0.0,\n",
       "                                                        criterion='friedman_mse',\n",
       "                                                        init=None,\n",
       "                                                        learning_rate=0.1,\n",
       "                                                        loss='deviance',\n",
       "                                                        max_depth=3,\n",
       "                                                        max_features=None,\n",
       "                                                        max_leaf_nodes=None,\n",
       "                                                        min_impurity_decrease=0.0,\n",
       "                                                        min_impurity_split=None,\n",
       "                                                        min_samples_leaf=1,\n",
       "                                                        min_samples_split=2,\n",
       "                                                        min_weight_fraction_leaf=0.0,\n",
       "                                                        n_estimators=100,\n",
       "                                                        n_ite...\n",
       "                                                        warm_start=False),\n",
       "                   iid='deprecated', n_iter=10, n_jobs=-1,\n",
       "                   param_distributions={'learning_rate': [0.1, 0.05, 0.025],\n",
       "                                        'max_depth': [2, 3, 6],\n",
       "                                        'max_features': ['log2', 'sqrt', None],\n",
       "                                        'min_samples_leaf': [1, 2, 4],\n",
       "                                        'min_samples_split': [2, 4, 8],\n",
       "                                        'n_estimators': [50, 100, 200]},\n",
       "                   pre_dispatch='2*n_jobs', random_state=None, refit=True,\n",
       "                   return_train_score=False, scoring='f1', verbose=0)"
      ]
     },
     "execution_count": 29,
     "metadata": {},
     "output_type": "execute_result"
    }
   ],
   "source": [
    "#fits the randomized search \n",
    "clf.fit(X_train.values, y_train.values)"
   ]
  },
  {
   "cell_type": "code",
   "execution_count": 30,
   "metadata": {},
   "outputs": [
    {
     "data": {
      "text/plain": [
       "{'n_estimators': 100,\n",
       " 'min_samples_split': 2,\n",
       " 'min_samples_leaf': 1,\n",
       " 'max_features': None,\n",
       " 'max_depth': 3,\n",
       " 'learning_rate': 0.025}"
      ]
     },
     "execution_count": 30,
     "metadata": {},
     "output_type": "execute_result"
    }
   ],
   "source": [
    "#use this for gradient boosting\n",
    "clf.best_params_"
   ]
  },
  {
   "cell_type": "code",
   "execution_count": 31,
   "metadata": {},
   "outputs": [
    {
     "name": "stdout",
     "output_type": "stream",
     "text": [
      "Accuracy Mean Score of GradientBoostingClassifier: 0.904\n"
     ]
    },
    {
     "data": {
      "text/plain": [
       "GradientBoostingClassifier(ccp_alpha=0.0, criterion='friedman_mse', init=None,\n",
       "                           learning_rate=0.1, loss='deviance', max_depth=3,\n",
       "                           max_features=None, max_leaf_nodes=None,\n",
       "                           min_impurity_decrease=0.0, min_impurity_split=None,\n",
       "                           min_samples_leaf=4, min_samples_split=8,\n",
       "                           min_weight_fraction_leaf=0.0, n_estimators=50,\n",
       "                           n_iter_no_change=None, presort='deprecated',\n",
       "                           random_state=None, subsample=1.0, tol=0.0001,\n",
       "                           validation_fraction=0.1, verbose=0,\n",
       "                           warm_start=False)"
      ]
     },
     "execution_count": 31,
     "metadata": {},
     "output_type": "execute_result"
    }
   ],
   "source": [
    "#uses parameters from rscv and crossvalidates using accuracy score\n",
    "cross_val(GradientBoostingClassifier(n_estimators=50, min_samples_split=8, min_samples_leaf=4, max_features=None, max_depth=3, learning_rate=0.1), X_train.values, y_train.values)"
   ]
  }
 ],
 "metadata": {
  "kernelspec": {
   "display_name": "Python 3",
   "language": "python",
   "name": "python3"
  },
  "language_info": {
   "codemirror_mode": {
    "name": "ipython",
    "version": 3
   },
   "file_extension": ".py",
   "mimetype": "text/x-python",
   "name": "python",
   "nbconvert_exporter": "python",
   "pygments_lexer": "ipython3",
   "version": "3.7.6"
  }
 },
 "nbformat": 4,
 "nbformat_minor": 2
}
