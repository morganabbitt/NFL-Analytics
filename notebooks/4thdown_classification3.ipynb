{
 "cells": [
  {
   "cell_type": "code",
   "execution_count": 191,
   "metadata": {},
   "outputs": [],
   "source": [
    "#imports\n",
    "import pandas as pd\n",
    "import matplotlib.pyplot as plt\n",
    "import numpy as np\n",
    "from sklearn.linear_model import LogisticRegression\n",
    "from sklearn.metrics import confusion_matrix, accuracy_score, recall_score, precision_score, plot_confusion_matrix, log_loss, make_scorer, ConfusionMatrixDisplay, f1_score\n",
    "from sklearn.ensemble import RandomForestClassifier, GradientBoostingClassifier\n",
    "from sklearn.model_selection import cross_val_score, train_test_split, GridSearchCV, KFold, RandomizedSearchCV\n",
    "pd.set_option('display.max_columns', None)\n",
    "%matplotlib inline\n",
    "plt.style.use('ggplot')\n",
    "import warnings\n",
    "warnings.simplefilter(action='ignore', category=FutureWarning)"
   ]
  },
  {
   "cell_type": "code",
   "execution_count": 82,
   "metadata": {},
   "outputs": [
    {
     "name": "stderr",
     "output_type": "stream",
     "text": [
      "/Users/morganabbitt/anaconda3/lib/python3.7/site-packages/ipykernel_launcher.py:9: SettingWithCopyWarning: \n",
      "A value is trying to be set on a copy of a slice from a DataFrame.\n",
      "Try using .loc[row_indexer,col_indexer] = value instead\n",
      "\n",
      "See the caveats in the documentation: http://pandas.pydata.org/pandas-docs/stable/user_guide/indexing.html#returning-a-view-versus-a-copy\n",
      "  if __name__ == '__main__':\n",
      "/Users/morganabbitt/anaconda3/lib/python3.7/site-packages/ipykernel_launcher.py:10: SettingWithCopyWarning: \n",
      "A value is trying to be set on a copy of a slice from a DataFrame.\n",
      "Try using .loc[row_indexer,col_indexer] = value instead\n",
      "\n",
      "See the caveats in the documentation: http://pandas.pydata.org/pandas-docs/stable/user_guide/indexing.html#returning-a-view-versus-a-copy\n",
      "  # Remove the CWD from sys.path while we load stuff.\n"
     ]
    }
   ],
   "source": [
    "df = pd.read_csv('/Users/morganabbitt/galvanize/capstone/NFL-Analytics/data/NFL Play by Play 2009-2018 (v5).csv', low_memory=False)\n",
    "#drop when the play is the last of the quarter\n",
    "df = df[df['quarter_end'] == 0]\n",
    "#grab all 4th downs\n",
    "df_4 = df[df['down'] == 4.0]\n",
    "#convert date to datetime\n",
    "date = pd.to_datetime(df_4['game_date'].values)\n",
    "#separate date and year\n",
    "df_4['game_date'] = date\n",
    "df_4['year'] = date.year\n",
    "df_4 = df_4[df_4['play_type'] != 'no_play']\n",
    "df_4 = df_4[['yardline_100', 'half_seconds_remaining', 'posteam_type', 'drive', 'qtr', \n",
    "            'ydstogo', 'posteam_timeouts_remaining', 'defteam_timeouts_remaining', 'play_type',\n",
    "             'score_differential', 'ep', 'posteam_score', 'defteam_score', 'no_huddle', 'year']]\n",
    "#creates dummy columns for categorical variables and merges back to original along indicies\n",
    "df_4 = pd.get_dummies(df_4['posteam_type']).merge(df_4.drop(columns='posteam_type'), left_index=True, right_index=True)\n",
    "#0 is punt\n",
    "df_4.loc[df_4['play_type'] == 'punt', 'target'] = 1\n",
    "#1 is field goal\n",
    "df_4.loc[df_4['play_type'] == 'field_goal', 'target'] = 0\n",
    "#2 is go for it\n",
    "df_4.loc[(df_4['play_type'] == 'run') | (df_4['play_type'] == 'pass') | (df_4['play_type'] == 'qb_kneel'), 'target'] = 2"
   ]
  },
  {
   "cell_type": "code",
   "execution_count": 83,
   "metadata": {},
   "outputs": [
    {
     "data": {
      "text/html": [
       "<div>\n",
       "<style scoped>\n",
       "    .dataframe tbody tr th:only-of-type {\n",
       "        vertical-align: middle;\n",
       "    }\n",
       "\n",
       "    .dataframe tbody tr th {\n",
       "        vertical-align: top;\n",
       "    }\n",
       "\n",
       "    .dataframe thead th {\n",
       "        text-align: right;\n",
       "    }\n",
       "</style>\n",
       "<table border=\"1\" class=\"dataframe\">\n",
       "  <thead>\n",
       "    <tr style=\"text-align: right;\">\n",
       "      <th></th>\n",
       "      <th>away</th>\n",
       "      <th>home</th>\n",
       "      <th>yardline_100</th>\n",
       "      <th>half_seconds_remaining</th>\n",
       "      <th>drive</th>\n",
       "      <th>qtr</th>\n",
       "      <th>ydstogo</th>\n",
       "      <th>posteam_timeouts_remaining</th>\n",
       "      <th>defteam_timeouts_remaining</th>\n",
       "      <th>play_type</th>\n",
       "      <th>score_differential</th>\n",
       "      <th>ep</th>\n",
       "      <th>posteam_score</th>\n",
       "      <th>defteam_score</th>\n",
       "      <th>no_huddle</th>\n",
       "      <th>year</th>\n",
       "      <th>target</th>\n",
       "    </tr>\n",
       "  </thead>\n",
       "  <tbody>\n",
       "    <tr>\n",
       "      <th>4</th>\n",
       "      <td>0</td>\n",
       "      <td>1</td>\n",
       "      <td>56.0</td>\n",
       "      <td>1707.0</td>\n",
       "      <td>1</td>\n",
       "      <td>1</td>\n",
       "      <td>8</td>\n",
       "      <td>3.0</td>\n",
       "      <td>3.0</td>\n",
       "      <td>punt</td>\n",
       "      <td>0.0</td>\n",
       "      <td>-0.699436</td>\n",
       "      <td>0.0</td>\n",
       "      <td>0.0</td>\n",
       "      <td>0</td>\n",
       "      <td>2009</td>\n",
       "      <td>1.0</td>\n",
       "    </tr>\n",
       "    <tr>\n",
       "      <th>8</th>\n",
       "      <td>1</td>\n",
       "      <td>0</td>\n",
       "      <td>96.0</td>\n",
       "      <td>1594.0</td>\n",
       "      <td>2</td>\n",
       "      <td>1</td>\n",
       "      <td>8</td>\n",
       "      <td>3.0</td>\n",
       "      <td>3.0</td>\n",
       "      <td>punt</td>\n",
       "      <td>0.0</td>\n",
       "      <td>-3.393288</td>\n",
       "      <td>0.0</td>\n",
       "      <td>0.0</td>\n",
       "      <td>0</td>\n",
       "      <td>2009</td>\n",
       "      <td>1.0</td>\n",
       "    </tr>\n",
       "    <tr>\n",
       "      <th>14</th>\n",
       "      <td>0</td>\n",
       "      <td>1</td>\n",
       "      <td>41.0</td>\n",
       "      <td>1405.0</td>\n",
       "      <td>3</td>\n",
       "      <td>1</td>\n",
       "      <td>21</td>\n",
       "      <td>3.0</td>\n",
       "      <td>3.0</td>\n",
       "      <td>punt</td>\n",
       "      <td>0.0</td>\n",
       "      <td>0.757343</td>\n",
       "      <td>0.0</td>\n",
       "      <td>0.0</td>\n",
       "      <td>0</td>\n",
       "      <td>2009</td>\n",
       "      <td>1.0</td>\n",
       "    </tr>\n",
       "    <tr>\n",
       "      <th>20</th>\n",
       "      <td>1</td>\n",
       "      <td>0</td>\n",
       "      <td>19.0</td>\n",
       "      <td>1308.0</td>\n",
       "      <td>4</td>\n",
       "      <td>1</td>\n",
       "      <td>7</td>\n",
       "      <td>3.0</td>\n",
       "      <td>3.0</td>\n",
       "      <td>field_goal</td>\n",
       "      <td>0.0</td>\n",
       "      <td>2.487035</td>\n",
       "      <td>0.0</td>\n",
       "      <td>0.0</td>\n",
       "      <td>0</td>\n",
       "      <td>2009</td>\n",
       "      <td>0.0</td>\n",
       "    </tr>\n",
       "    <tr>\n",
       "      <th>24</th>\n",
       "      <td>0</td>\n",
       "      <td>1</td>\n",
       "      <td>79.0</td>\n",
       "      <td>1202.0</td>\n",
       "      <td>5</td>\n",
       "      <td>1</td>\n",
       "      <td>16</td>\n",
       "      <td>3.0</td>\n",
       "      <td>3.0</td>\n",
       "      <td>punt</td>\n",
       "      <td>0.0</td>\n",
       "      <td>-2.604561</td>\n",
       "      <td>0.0</td>\n",
       "      <td>0.0</td>\n",
       "      <td>0</td>\n",
       "      <td>2009</td>\n",
       "      <td>1.0</td>\n",
       "    </tr>\n",
       "    <tr>\n",
       "      <th>...</th>\n",
       "      <td>...</td>\n",
       "      <td>...</td>\n",
       "      <td>...</td>\n",
       "      <td>...</td>\n",
       "      <td>...</td>\n",
       "      <td>...</td>\n",
       "      <td>...</td>\n",
       "      <td>...</td>\n",
       "      <td>...</td>\n",
       "      <td>...</td>\n",
       "      <td>...</td>\n",
       "      <td>...</td>\n",
       "      <td>...</td>\n",
       "      <td>...</td>\n",
       "      <td>...</td>\n",
       "      <td>...</td>\n",
       "      <td>...</td>\n",
       "    </tr>\n",
       "    <tr>\n",
       "      <th>449301</th>\n",
       "      <td>0</td>\n",
       "      <td>1</td>\n",
       "      <td>85.0</td>\n",
       "      <td>1602.0</td>\n",
       "      <td>14</td>\n",
       "      <td>3</td>\n",
       "      <td>12</td>\n",
       "      <td>3.0</td>\n",
       "      <td>2.0</td>\n",
       "      <td>punt</td>\n",
       "      <td>1.0</td>\n",
       "      <td>-3.000972</td>\n",
       "      <td>7.0</td>\n",
       "      <td>6.0</td>\n",
       "      <td>0</td>\n",
       "      <td>2018</td>\n",
       "      <td>1.0</td>\n",
       "    </tr>\n",
       "    <tr>\n",
       "      <th>449310</th>\n",
       "      <td>1</td>\n",
       "      <td>0</td>\n",
       "      <td>53.0</td>\n",
       "      <td>1363.0</td>\n",
       "      <td>15</td>\n",
       "      <td>3</td>\n",
       "      <td>8</td>\n",
       "      <td>2.0</td>\n",
       "      <td>3.0</td>\n",
       "      <td>punt</td>\n",
       "      <td>-1.0</td>\n",
       "      <td>-0.306871</td>\n",
       "      <td>6.0</td>\n",
       "      <td>7.0</td>\n",
       "      <td>0</td>\n",
       "      <td>2018</td>\n",
       "      <td>1.0</td>\n",
       "    </tr>\n",
       "    <tr>\n",
       "      <th>449341</th>\n",
       "      <td>0</td>\n",
       "      <td>1</td>\n",
       "      <td>58.0</td>\n",
       "      <td>536.0</td>\n",
       "      <td>18</td>\n",
       "      <td>4</td>\n",
       "      <td>16</td>\n",
       "      <td>3.0</td>\n",
       "      <td>2.0</td>\n",
       "      <td>punt</td>\n",
       "      <td>-5.0</td>\n",
       "      <td>-0.597099</td>\n",
       "      <td>7.0</td>\n",
       "      <td>12.0</td>\n",
       "      <td>0</td>\n",
       "      <td>2018</td>\n",
       "      <td>1.0</td>\n",
       "    </tr>\n",
       "    <tr>\n",
       "      <th>449355</th>\n",
       "      <td>1</td>\n",
       "      <td>0</td>\n",
       "      <td>14.0</td>\n",
       "      <td>150.0</td>\n",
       "      <td>19</td>\n",
       "      <td>4</td>\n",
       "      <td>1</td>\n",
       "      <td>1.0</td>\n",
       "      <td>2.0</td>\n",
       "      <td>run</td>\n",
       "      <td>5.0</td>\n",
       "      <td>2.199064</td>\n",
       "      <td>12.0</td>\n",
       "      <td>7.0</td>\n",
       "      <td>0</td>\n",
       "      <td>2018</td>\n",
       "      <td>2.0</td>\n",
       "    </tr>\n",
       "    <tr>\n",
       "      <th>449368</th>\n",
       "      <td>0</td>\n",
       "      <td>1</td>\n",
       "      <td>61.0</td>\n",
       "      <td>38.0</td>\n",
       "      <td>20</td>\n",
       "      <td>4</td>\n",
       "      <td>5</td>\n",
       "      <td>0.0</td>\n",
       "      <td>1.0</td>\n",
       "      <td>pass</td>\n",
       "      <td>-5.0</td>\n",
       "      <td>0.286672</td>\n",
       "      <td>7.0</td>\n",
       "      <td>12.0</td>\n",
       "      <td>1</td>\n",
       "      <td>2018</td>\n",
       "      <td>2.0</td>\n",
       "    </tr>\n",
       "  </tbody>\n",
       "</table>\n",
       "<p>37769 rows × 17 columns</p>\n",
       "</div>"
      ],
      "text/plain": [
       "        away  home  yardline_100  half_seconds_remaining  drive  qtr  ydstogo  \\\n",
       "4          0     1          56.0                  1707.0      1    1        8   \n",
       "8          1     0          96.0                  1594.0      2    1        8   \n",
       "14         0     1          41.0                  1405.0      3    1       21   \n",
       "20         1     0          19.0                  1308.0      4    1        7   \n",
       "24         0     1          79.0                  1202.0      5    1       16   \n",
       "...      ...   ...           ...                     ...    ...  ...      ...   \n",
       "449301     0     1          85.0                  1602.0     14    3       12   \n",
       "449310     1     0          53.0                  1363.0     15    3        8   \n",
       "449341     0     1          58.0                   536.0     18    4       16   \n",
       "449355     1     0          14.0                   150.0     19    4        1   \n",
       "449368     0     1          61.0                    38.0     20    4        5   \n",
       "\n",
       "        posteam_timeouts_remaining  defteam_timeouts_remaining   play_type  \\\n",
       "4                              3.0                         3.0        punt   \n",
       "8                              3.0                         3.0        punt   \n",
       "14                             3.0                         3.0        punt   \n",
       "20                             3.0                         3.0  field_goal   \n",
       "24                             3.0                         3.0        punt   \n",
       "...                            ...                         ...         ...   \n",
       "449301                         3.0                         2.0        punt   \n",
       "449310                         2.0                         3.0        punt   \n",
       "449341                         3.0                         2.0        punt   \n",
       "449355                         1.0                         2.0         run   \n",
       "449368                         0.0                         1.0        pass   \n",
       "\n",
       "        score_differential        ep  posteam_score  defteam_score  no_huddle  \\\n",
       "4                      0.0 -0.699436            0.0            0.0          0   \n",
       "8                      0.0 -3.393288            0.0            0.0          0   \n",
       "14                     0.0  0.757343            0.0            0.0          0   \n",
       "20                     0.0  2.487035            0.0            0.0          0   \n",
       "24                     0.0 -2.604561            0.0            0.0          0   \n",
       "...                    ...       ...            ...            ...        ...   \n",
       "449301                 1.0 -3.000972            7.0            6.0          0   \n",
       "449310                -1.0 -0.306871            6.0            7.0          0   \n",
       "449341                -5.0 -0.597099            7.0           12.0          0   \n",
       "449355                 5.0  2.199064           12.0            7.0          0   \n",
       "449368                -5.0  0.286672            7.0           12.0          1   \n",
       "\n",
       "        year  target  \n",
       "4       2009     1.0  \n",
       "8       2009     1.0  \n",
       "14      2009     1.0  \n",
       "20      2009     0.0  \n",
       "24      2009     1.0  \n",
       "...      ...     ...  \n",
       "449301  2018     1.0  \n",
       "449310  2018     1.0  \n",
       "449341  2018     1.0  \n",
       "449355  2018     2.0  \n",
       "449368  2018     2.0  \n",
       "\n",
       "[37769 rows x 17 columns]"
      ]
     },
     "execution_count": 83,
     "metadata": {},
     "output_type": "execute_result"
    }
   ],
   "source": [
    "df_4"
   ]
  },
  {
   "cell_type": "code",
   "execution_count": 204,
   "metadata": {},
   "outputs": [],
   "source": [
    "def cross_val(estimator, X, y):\n",
    "    '''\n",
    "    estimator = The model you want to use with the sepcified paramters\n",
    "                        ex: LogisticRegression(), RandomForestClassification() ...\n",
    "                        \n",
    "    data = clean dataframe you are working with, no nans\n",
    "    \n",
    "    clean_features = list of features you want to observe in your model\n",
    "    \n",
    "    target = target column you want to predict against\n",
    "    '''\n",
    "\n",
    "    kf = KFold(n_splits=5, shuffle=True, random_state=123)  # almost always use shuffle=True\n",
    "    acc_scores = []\n",
    "    f1_scores = []\n",
    "    model = estimator   \n",
    "    \n",
    "    for train_index, test_index in kf.split(X):\n",
    "        X_train, X_test = X[train_index], X[test_index]\n",
    "        y_train, y_test = y[train_index], y[test_index]\n",
    "        \n",
    "        model.fit(X_train, y_train)\n",
    "\n",
    "        y_test_pred = model.predict(X_test)\n",
    "        acc_scores.append(accuracy_score(y_test, y_test_pred))\n",
    "        f1_scores.append(f1_score(y_test, y_test_pred, average='micro'))\n",
    "        #precision_scores.append(precision_score(y[test], y_test_pred))\n",
    "        #test_matrix = confusion_matrix(y[test], y_test_pred)\n",
    "    print('F1 Mean Score of {}: {:.3f}'.format(type(model).__name__, np.mean(f1_scores)))\n",
    "    print('Accuracy Mean Score of {}: {:.3f}'.format(type(model).__name__, np.mean(acc_scores)))\n",
    "    #print('Recall Mean Score of {} : {:.3f}'.format(type(model).__name__, np.mean(recall_scores)))\n",
    "    #print('Precision Mean Score of {} : {:.3f}'.format(type(model).__name__, np.mean(precision_scores)))\n",
    "    return model "
   ]
  },
  {
   "cell_type": "code",
   "execution_count": 85,
   "metadata": {},
   "outputs": [],
   "source": [
    "#if working with RandomForests dont need to drop na, else dropna\n",
    "test = df_4[df_4['year'] == 2018].dropna()\n",
    "train = df_4[(df_4['year'] == 2017) | (df_4['year'] == 2016) | (df_4['year'] == 2015) | (df_4['year'] == 2014) | (df_4['year'] == 2013)].dropna()\n",
    "\n",
    "y_test = test['target']\n",
    "X_test = test.drop(columns=['target', 'play_type']) #.select_dtypes(exclude=['object'])\n",
    "\n",
    "y_train = train['target']\n",
    "X_train = train.drop(columns=['target', 'play_type']) #.select_dtypes(exclude=['object'])"
   ]
  },
  {
   "cell_type": "code",
   "execution_count": 87,
   "metadata": {},
   "outputs": [
    {
     "name": "stdout",
     "output_type": "stream",
     "text": [
      "Accuracy Mean Score of RandomForestClassifier: 0.944\n"
     ]
    }
   ],
   "source": [
    "rf = cross_val(RandomForestClassifier(), X_train.values, y_train.values)"
   ]
  },
  {
   "cell_type": "code",
   "execution_count": 88,
   "metadata": {},
   "outputs": [
    {
     "data": {
      "text/plain": [
       "array([2., 1., 0., ..., 1., 2., 2.])"
      ]
     },
     "execution_count": 88,
     "metadata": {},
     "output_type": "execute_result"
    }
   ],
   "source": [
    "rf.predict(X_test.values)"
   ]
  },
  {
   "cell_type": "code",
   "execution_count": 118,
   "metadata": {},
   "outputs": [],
   "source": [
    "features = rf.feature_importances_.reshape(-1, 1)"
   ]
  },
  {
   "cell_type": "code",
   "execution_count": 119,
   "metadata": {},
   "outputs": [
    {
     "data": {
      "text/plain": [
       "array([[0.00363507],\n",
       "       [0.0035791 ],\n",
       "       [0.37009224],\n",
       "       [0.04790638],\n",
       "       [0.02560262],\n",
       "       [0.01465053],\n",
       "       [0.05688839],\n",
       "       [0.01675185],\n",
       "       [0.00833944],\n",
       "       [0.05067445],\n",
       "       [0.31852093],\n",
       "       [0.02052544],\n",
       "       [0.03630737],\n",
       "       [0.01512553],\n",
       "       [0.01140066]])"
      ]
     },
     "execution_count": 119,
     "metadata": {},
     "output_type": "execute_result"
    }
   ],
   "source": [
    "features"
   ]
  },
  {
   "cell_type": "code",
   "execution_count": 156,
   "metadata": {},
   "outputs": [
    {
     "data": {
      "text/plain": [
       "Index(['home', 'away', 'defteam_timeouts_remaining', 'year', 'qtr',\n",
       "       'no_huddle', 'posteam_timeouts_remaining', 'posteam_score', 'drive',\n",
       "       'defteam_score', 'half_seconds_remaining', 'score_differential',\n",
       "       'ydstogo', 'ep', 'yardline_100'],\n",
       "      dtype='object')"
      ]
     },
     "execution_count": 156,
     "metadata": {},
     "output_type": "execute_result"
    }
   ],
   "source": [
    "fi = pd.DataFrame(data=features, index=X_train.columns)\n",
    "fi.sort_values(by=0, inplace=True)\n",
    "fi.index"
   ]
  },
  {
   "cell_type": "code",
   "execution_count": 157,
   "metadata": {},
   "outputs": [],
   "source": [
    "lst = []\n",
    "index = []\n",
    "for arr in fi.values.reshape(1,-1):\n",
    "    for x in arr:\n",
    "        lst.append(x)\n",
    "for ind in fi.index:\n",
    "    index.append(ind)"
   ]
  },
  {
   "cell_type": "code",
   "execution_count": 164,
   "metadata": {},
   "outputs": [
    {
     "data": {
      "text/plain": [
       "<BarContainer object of 15 artists>"
      ]
     },
     "execution_count": 164,
     "metadata": {},
     "output_type": "execute_result"
    },
    {
     "data": {
      "image/png": "[encoded data removed]",
      "text/plain": [
       "<Figure size 720x504 with 1 Axes>"
      ]
     },
     "metadata": {},
     "output_type": "display_data"
    }
   ],
   "source": [
    "plt.figure(figsize=(10,7))\n",
    "plt.title('Feature Importance of RandomForest', size=15)\n",
    "plt.barh(index, lst)"
   ]
  },
  {
   "cell_type": "code",
   "execution_count": 90,
   "metadata": {},
   "outputs": [],
   "source": [
    "cm = confusion_matrix(y_test, rf.predict(X_test.values))"
   ]
  },
  {
   "cell_type": "code",
   "execution_count": 91,
   "metadata": {},
   "outputs": [],
   "source": [
    "cm_normal = np.round(cm / cm.sum(axis=0), decimals=3)"
   ]
  },
  {
   "cell_type": "code",
   "execution_count": 165,
   "metadata": {},
   "outputs": [
    {
     "data": {
      "text/plain": [
       "<sklearn.metrics._plot.confusion_matrix.ConfusionMatrixDisplay at 0x1a2547af10>"
      ]
     },
     "execution_count": 165,
     "metadata": {},
     "output_type": "execute_result"
    },
    {
     "data": {
      "image/png": "[encoded data removed]",
      "text/plain": [
       "<Figure size 432x288 with 2 Axes>"
      ]
     },
     "metadata": {},
     "output_type": "display_data"
    }
   ],
   "source": [
    "plot_confusion_matrix(rf, X_train.values, y_train.values, normalize='pred')"
   ]
  },
  {
   "cell_type": "code",
   "execution_count": 92,
   "metadata": {},
   "outputs": [
    {
     "data": {
      "text/plain": [
       "<Figure size 1440x1440 with 0 Axes>"
      ]
     },
     "metadata": {},
     "output_type": "display_data"
    },
    {
     "data": {
      "image/png": "[encoded data removed]",
      "text/plain": [
       "<Figure size 432x288 with 2 Axes>"
      ]
     },
     "metadata": {},
     "output_type": "display_data"
    }
   ],
   "source": [
    "plt.figure(figsize=(20,20))\n",
    "ConfusionMatrixDisplay(cm_normal, ['Punt', 'Field Goal', 'Go for it']).plot()\n",
    "plt.tight_layout()\n",
    "plt.title('Confusion Matrix RF', size=15);"
   ]
  },
  {
   "cell_type": "code",
   "execution_count": 180,
   "metadata": {},
   "outputs": [
    {
     "data": {
      "image/png": "[encoded data removed]",
      "text/plain": [
       "<Figure size 576x576 with 2 Axes>"
      ]
     },
     "metadata": {},
     "output_type": "display_data"
    }
   ],
   "source": [
    "fig, ax = plt.subplots(1, figsize=(8,8))\n",
    "conf = plot_confusion_matrix(rf,X_test,y_test,normalize='pred',cmap='Blues',display_labels=np.array(['Punt','Field Goal', 'Go for it']), ax=ax)\n",
    "conf.ax_.grid(False)\n",
    "conf.ax_.set_title('RandomForest Confusion Matrix', size=25)\n",
    "plt.tight_layout()"
   ]
  },
  {
   "cell_type": "code",
   "execution_count": 196,
   "metadata": {},
   "outputs": [],
   "source": [
    "# parameter space for randomized grid search\n",
    "n_estimators = [50, 100, 200]\n",
    "max_features = ['log2', 'sqrt', None]\n",
    "max_depth = [2, 3, 6]\n",
    "min_samples_split = [2, 4, 8]\n",
    "min_samples_leaf = [1, 2, 4]\n",
    "learning_rate  = [0.1, 0.05, 0.025]\n",
    "random_grid = {'n_estimators': n_estimators,\n",
    "               'max_features': max_features,\n",
    "               'max_depth': max_depth,\n",
    "               'min_samples_split': min_samples_split,\n",
    "               'min_samples_leaf': min_samples_leaf}\n",
    "scorer = make_scorer(f1_score, average = 'micro')\n",
    "# create 20 gbc objects to be tuned and fitted\n",
    "rf1 = RandomForestClassifier()\n",
    "clf = RandomizedSearchCV(estimator = rf1, param_distributions = random_grid, n_iter = 10, scoring=scorer, n_jobs = -1, cv = 5, verbose=0)"
   ]
  },
  {
   "cell_type": "code",
   "execution_count": 197,
   "metadata": {},
   "outputs": [
    {
     "data": {
      "text/plain": [
       "RandomizedSearchCV(cv=5, error_score=nan,\n",
       "                   estimator=RandomForestClassifier(bootstrap=True,\n",
       "                                                    ccp_alpha=0.0,\n",
       "                                                    class_weight=None,\n",
       "                                                    criterion='gini',\n",
       "                                                    max_depth=None,\n",
       "                                                    max_features='auto',\n",
       "                                                    max_leaf_nodes=None,\n",
       "                                                    max_samples=None,\n",
       "                                                    min_impurity_decrease=0.0,\n",
       "                                                    min_impurity_split=None,\n",
       "                                                    min_samples_leaf=1,\n",
       "                                                    min_samples_split=2,\n",
       "                                                    min_weight_fraction_leaf=0.0,\n",
       "                                                    n_estimators=100,\n",
       "                                                    n_jobs...\n",
       "                                                    verbose=0,\n",
       "                                                    warm_start=False),\n",
       "                   iid='deprecated', n_iter=10, n_jobs=-1,\n",
       "                   param_distributions={'max_depth': [2, 3, 6],\n",
       "                                        'max_features': ['log2', 'sqrt', None],\n",
       "                                        'min_samples_leaf': [1, 2, 4],\n",
       "                                        'min_samples_split': [2, 4, 8],\n",
       "                                        'n_estimators': [50, 100, 200]},\n",
       "                   pre_dispatch='2*n_jobs', random_state=None, refit=True,\n",
       "                   return_train_score=False,\n",
       "                   scoring=make_scorer(f1_score, average=micro), verbose=0)"
      ]
     },
     "execution_count": 197,
     "metadata": {},
     "output_type": "execute_result"
    }
   ],
   "source": [
    "clf.fit(X_train.values, y_train.values)"
   ]
  },
  {
   "cell_type": "code",
   "execution_count": 198,
   "metadata": {},
   "outputs": [
    {
     "data": {
      "text/plain": [
       "{'n_estimators': 100,\n",
       " 'min_samples_split': 2,\n",
       " 'min_samples_leaf': 1,\n",
       " 'max_features': None,\n",
       " 'max_depth': 6}"
      ]
     },
     "execution_count": 198,
     "metadata": {},
     "output_type": "execute_result"
    }
   ],
   "source": [
    "clf.best_params_"
   ]
  },
  {
   "cell_type": "code",
   "execution_count": 205,
   "metadata": {},
   "outputs": [
    {
     "name": "stdout",
     "output_type": "stream",
     "text": [
      "F1 Mean Score of RandomForestClassifier: 0.927\n",
      "Accuracy Mean Score of RandomForestClassifier: 0.927\n"
     ]
    },
    {
     "data": {
      "text/plain": [
       "RandomForestClassifier(bootstrap=True, ccp_alpha=0.0, class_weight=None,\n",
       "                       criterion='gini', max_depth=6, max_features=None,\n",
       "                       max_leaf_nodes=None, max_samples=None,\n",
       "                       min_impurity_decrease=0.0, min_impurity_split=None,\n",
       "                       min_samples_leaf=1, min_samples_split=2,\n",
       "                       min_weight_fraction_leaf=0.0, n_estimators=100,\n",
       "                       n_jobs=None, oob_score=False, random_state=None,\n",
       "                       verbose=0, warm_start=False)"
      ]
     },
     "execution_count": 205,
     "metadata": {},
     "output_type": "execute_result"
    }
   ],
   "source": [
    "cross_val(RandomForestClassifier(n_estimators=100, min_samples_leaf=1, min_samples_split=2, max_features=None, max_depth=6), X_train.values, y_train.values)"
   ]
  },
  {
   "cell_type": "code",
   "execution_count": 212,
   "metadata": {},
   "outputs": [
    {
     "name": "stderr",
     "output_type": "stream",
     "text": [
      "/Users/morganabbitt/anaconda3/lib/python3.7/site-packages/scipy/optimize/linesearch.py:466: LineSearchWarning: The line search algorithm did not converge\n",
      "  warn('The line search algorithm did not converge', LineSearchWarning)\n",
      "/Users/morganabbitt/anaconda3/lib/python3.7/site-packages/scipy/optimize/linesearch.py:314: LineSearchWarning: The line search algorithm did not converge\n",
      "  warn('The line search algorithm did not converge', LineSearchWarning)\n",
      "/Users/morganabbitt/anaconda3/lib/python3.7/site-packages/sklearn/utils/optimize.py:212: ConvergenceWarning: newton-cg failed to converge. Increase the number of iterations.\n",
      "  \"number of iterations.\", ConvergenceWarning)\n",
      "/Users/morganabbitt/anaconda3/lib/python3.7/site-packages/scipy/optimize/linesearch.py:466: LineSearchWarning: The line search algorithm did not converge\n",
      "  warn('The line search algorithm did not converge', LineSearchWarning)\n",
      "/Users/morganabbitt/anaconda3/lib/python3.7/site-packages/scipy/optimize/linesearch.py:314: LineSearchWarning: The line search algorithm did not converge\n",
      "  warn('The line search algorithm did not converge', LineSearchWarning)\n",
      "/Users/morganabbitt/anaconda3/lib/python3.7/site-packages/sklearn/utils/optimize.py:212: ConvergenceWarning: newton-cg failed to converge. Increase the number of iterations.\n",
      "  \"number of iterations.\", ConvergenceWarning)\n",
      "/Users/morganabbitt/anaconda3/lib/python3.7/site-packages/scipy/optimize/linesearch.py:466: LineSearchWarning: The line search algorithm did not converge\n",
      "  warn('The line search algorithm did not converge', LineSearchWarning)\n",
      "/Users/morganabbitt/anaconda3/lib/python3.7/site-packages/scipy/optimize/linesearch.py:314: LineSearchWarning: The line search algorithm did not converge\n",
      "  warn('The line search algorithm did not converge', LineSearchWarning)\n",
      "/Users/morganabbitt/anaconda3/lib/python3.7/site-packages/sklearn/utils/optimize.py:212: ConvergenceWarning: newton-cg failed to converge. Increase the number of iterations.\n",
      "  \"number of iterations.\", ConvergenceWarning)\n",
      "/Users/morganabbitt/anaconda3/lib/python3.7/site-packages/scipy/optimize/linesearch.py:466: LineSearchWarning: The line search algorithm did not converge\n",
      "  warn('The line search algorithm did not converge', LineSearchWarning)\n",
      "/Users/morganabbitt/anaconda3/lib/python3.7/site-packages/scipy/optimize/linesearch.py:314: LineSearchWarning: The line search algorithm did not converge\n",
      "  warn('The line search algorithm did not converge', LineSearchWarning)\n",
      "/Users/morganabbitt/anaconda3/lib/python3.7/site-packages/sklearn/utils/optimize.py:212: ConvergenceWarning: newton-cg failed to converge. Increase the number of iterations.\n",
      "  \"number of iterations.\", ConvergenceWarning)\n",
      "/Users/morganabbitt/anaconda3/lib/python3.7/site-packages/scipy/optimize/linesearch.py:466: LineSearchWarning: The line search algorithm did not converge\n",
      "  warn('The line search algorithm did not converge', LineSearchWarning)\n",
      "/Users/morganabbitt/anaconda3/lib/python3.7/site-packages/scipy/optimize/linesearch.py:314: LineSearchWarning: The line search algorithm did not converge\n",
      "  warn('The line search algorithm did not converge', LineSearchWarning)\n"
     ]
    },
    {
     "name": "stdout",
     "output_type": "stream",
     "text": [
      "F1 Mean Score of LogisticRegression: 0.884\n",
      "Accuracy Mean Score of LogisticRegression: 0.884\n"
     ]
    },
    {
     "name": "stderr",
     "output_type": "stream",
     "text": [
      "/Users/morganabbitt/anaconda3/lib/python3.7/site-packages/sklearn/utils/optimize.py:212: ConvergenceWarning: newton-cg failed to converge. Increase the number of iterations.\n",
      "  \"number of iterations.\", ConvergenceWarning)\n"
     ]
    },
    {
     "data": {
      "text/plain": [
       "LogisticRegression(C=1.0, class_weight=None, dual=False, fit_intercept=True,\n",
       "                   intercept_scaling=1, l1_ratio=None, max_iter=100,\n",
       "                   multi_class='multinomial', n_jobs=None, penalty='l2',\n",
       "                   random_state=None, solver='newton-cg', tol=0.0001, verbose=0,\n",
       "                   warm_start=False)"
      ]
     },
     "execution_count": 212,
     "metadata": {},
     "output_type": "execute_result"
    }
   ],
   "source": [
    "cross_val(LogisticRegression(max_iter=100, solver='newton-cg', multi_class='multinomial'), X_train.values, y_train.values)"
   ]
  },
  {
   "cell_type": "code",
   "execution_count": null,
   "metadata": {},
   "outputs": [],
   "source": []
  }
 ],
 "metadata": {
  "kernelspec": {
   "display_name": "Python 3",
   "language": "python",
   "name": "python3"
  },
  "language_info": {
   "codemirror_mode": {
    "name": "ipython",
    "version": 3
   },
   "file_extension": ".py",
   "mimetype": "text/x-python",
   "name": "python",
   "nbconvert_exporter": "python",
   "pygments_lexer": "ipython3",
   "version": "3.7.6"
  }
 },
 "nbformat": 4,
 "nbformat_minor": 2
}
